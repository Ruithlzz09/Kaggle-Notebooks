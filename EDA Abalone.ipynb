{
  "cells": [
    {
      "metadata": {
        "_uuid": "52991cf63e13a449203f19c0d54aba8ec60290b3"
      },
      "cell_type": "markdown",
      "source": "# **EDA : Abalone Snails**"
    },
    {
      "metadata": {
        "_uuid": "30dcbffad48c7edc86ffd0adb717cfc794e2c525"
      },
      "cell_type": "markdown",
      "source": "**The Abalone DataSet consist of Following Attributes**\n\n1. Sex\n2. Length                            ** Longest shell measurement**\n3. Diameter                       ** perpendicular to length **\n4. Height                             **with meat in shell **\n5. Whole weight                ** whole abalone **\n6. Shucked weight           **   weight of meat **\n7. Viscera weight             **   gut weight (after bleeding) **\n8. Shell weight                **    after being dried **\n9. Rings"
    },
    {
      "metadata": {
        "_uuid": "ef4b3362bc0f89be4c7eed844b8b374bbca3fc43"
      },
      "cell_type": "markdown",
      "source": "> **The Aim of this Analysis to determine the Sex of an Abalone Snail based on its Physical Measurements.**"
    },
    {
      "metadata": {
        "_uuid": "6d443f96e758ffbbd17f95f25c6d17105113e2c4"
      },
      "cell_type": "markdown",
      "source": "## Step -1 Load Dependencies"
    },
    {
      "metadata": {
        "trusted": true,
        "collapsed": true,
        "_uuid": "de1dab1fff042c4654abb36f93b63af6fa726f42"
      },
      "cell_type": "code",
      "source": "#Basic Dependencies\nimport numpy as np;\nimport pandas as pd;\nfrom os.path import exists,basename,dirname,join;\nimport os;\nimport matplotlib.pyplot as plt;\nfrom time import time",
      "execution_count": null,
      "outputs": []
    },
    {
      "metadata": {
        "_uuid": "5fd16b5bd341afeb961fd68eba8ad317a94d74a9"
      },
      "cell_type": "markdown",
      "source": "## Step - 2 Load Data"
    },
    {
      "metadata": {
        "trusted": true,
        "_uuid": "fbbf1de6be974a8cfe41c4fbcee6164f14332638",
        "collapsed": true
      },
      "cell_type": "code",
      "source": "#Loading Dataset\ncsv_path = \"../input/abalone.csv\"\ndef read_csv_f(*path):\n    new_path = join(*path)\n    return pd.read_csv(new_path)\n\ndf = read_csv_f(csv_path)\ndf.head(3) # Preview of Data",
      "execution_count": null,
      "outputs": []
    },
    {
      "metadata": {
        "trusted": true,
        "_uuid": "55949da41f2bbf8658d97c64e329f56d9d769131",
        "collapsed": true
      },
      "cell_type": "code",
      "source": "df_attributes = list(df.columns)\nnum = df.shape[0]\nprint(df_attributes, num ,sep= \"\\n\", end= \"\")",
      "execution_count": null,
      "outputs": []
    },
    {
      "metadata": {
        "_uuid": "376c928caf5f56e33d16a308ebc1b787185cc773"
      },
      "cell_type": "markdown",
      "source": "# Step - 3 Preprocessing"
    },
    {
      "metadata": {
        "_uuid": "f37a50ac58fed5e4f3ac3a7dd14e89f21b62ee71"
      },
      "cell_type": "markdown",
      "source": "**`Data Cleaning - `**\nIt refers to removal ,deletions of unwanted noise and missing data."
    },
    {
      "metadata": {
        "_uuid": "c55d33af326d803e34073a42a127339cf4cc0fe1"
      },
      "cell_type": "markdown",
      "source": "**`Handling Categorical and Text Attribute - `**\nA computer doesn't understand text language it only understand numeric value thus it is required to convert Cateorical features into numeric ones\n"
    },
    {
      "metadata": {
        "trusted": true,
        "_uuid": "e205d48147b077da2da0d7e8bd9bf0ec7ef21f40",
        "collapsed": true
      },
      "cell_type": "code",
      "source": "#Encode Categoorical data into numeric data\nfrom sklearn.preprocessing import LabelEncoder\n\ndef encode_category(data,columns,copy=False):\n    meta=dict()\n    X=data\n    if copy is True:\n        X=data.copy()\n    lb_make = LabelEncoder()\n    for col in columns:\n        X[col] = lb_make.fit_transform(X[col])\n        meta[col]=list(lb_make.classes_)\n    return X,meta\n\ndf,encode_info = encode_category(df, [\"Sex\"])\nprint(encode_info)\ndf.head(2)",
      "execution_count": null,
      "outputs": []
    },
    {
      "metadata": {
        "_uuid": "f0dc6cea578b29c2fb564b94e11291146e78dd59"
      },
      "cell_type": "markdown",
      "source": "`In above operation the Sex Features is encoded`\n\nFemale  F    = 0 \n\nInfant  I    = 1\n\nMan     M    = 2\n"
    },
    {
      "metadata": {
        "_uuid": "879d7d09364f0c4c0fc0dff373b6c0d9b0320561"
      },
      "cell_type": "markdown",
      "source": "**`Feature Scaling -`** It refers to normalize or making features value within a range to have better understanding as well as\nto  find coorelation b/w data\n\nThere is no need of it as the data seems to be normalize enough\n"
    },
    {
      "metadata": {
        "_uuid": "dd3dcd59b862497f008b37afa820d2bfd2d2ae90"
      },
      "cell_type": "markdown",
      "source": " Correlation and Description of Features"
    },
    {
      "metadata": {
        "trusted": true,
        "_uuid": "37ba914eb090fbad980d7a6bed11d713148b510f",
        "collapsed": true
      },
      "cell_type": "code",
      "source": "df.info()",
      "execution_count": null,
      "outputs": []
    },
    {
      "metadata": {
        "trusted": true,
        "_uuid": "aa588f9264c1755631e6dfc061fa7fa8010f703b",
        "collapsed": true
      },
      "cell_type": "code",
      "source": "#The Coorelation b/w various features are indicating the degree of association b/w them\n#In Abalone Dataset , there is a strong association b/w Weight, Diameter and Length\nattributes = [\"Length\", \"Diameter\", \"Height\", \"Rings\", \"Whole weight\"]\nprint(df[attributes].corr())\ndf[[\"Length\", \"Diameter\", \"Height\", \"Rings\", \"Whole weight\",\"Viscera weight\", \"Shucked weight\", \"Shell weight\"]].corr()",
      "execution_count": null,
      "outputs": []
    },
    {
      "metadata": {
        "_uuid": "caca86d5732ca36e7349644945430e7444fbab04"
      },
      "cell_type": "markdown",
      "source": "**In  Order to Determine the Sex of a Abalone we require only specific Attributes**\n1.  Length\n2. Diameter\n3. Height\n4. Whole Weight\n5. Rings\nThis the New Dataset will be\n"
    },
    {
      "metadata": {
        "trusted": true,
        "_uuid": "5fbcb1d99a34c57e486273386ec62eb98491f219",
        "collapsed": true
      },
      "cell_type": "code",
      "source": "attributes = [\"Length\", \"Diameter\", \"Height\", \"Rings\", \"Whole weight\"]\nX = df[attributes]\ny = df[\"Sex\"]\nprint(X.head(2))\nX.corr()",
      "execution_count": null,
      "outputs": []
    },
    {
      "metadata": {
        "_uuid": "cc4a11d75bb46477826fb689b58807af9f5f783a"
      },
      "cell_type": "markdown",
      "source": "# Step - 4 Visualization"
    },
    {
      "metadata": {
        "trusted": true,
        "_uuid": "abe5b730447602e3468c0dea6a0368fbbda4855e",
        "collapsed": true
      },
      "cell_type": "code",
      "source": "#Features Distribution for Abalone Snails\nfigures = [221,222,223,224,111]\n\nfor attr,fig in zip(attributes,figures):\n    plt.figure( figsize=(7,7))\n    plt.subplot(fig)\n    plt.hist(df[attr])\n    plt.legend()\n    plt.title(attr)\n    plt.grid()\n    plt.show()",
      "execution_count": null,
      "outputs": []
    },
    {
      "metadata": {
        "trusted": true,
        "_uuid": "cf04507c6ce75030126034191617480f042d4f49",
        "collapsed": true
      },
      "cell_type": "code",
      "source": "female, infant, male = df[ df[\"Sex\"] == 0], df[ df[\"Sex\"] == 1], df[ df[\"Sex\"] == 2]\ntemp = pd.DataFrame( {\"infant\": infant.max(), \"male\": male.max(), \"female\": female.max() })\ntemp",
      "execution_count": null,
      "outputs": []
    },
    {
      "metadata": {
        "_uuid": "50b078133f9794d1b309ab4e8ac26472ebdc8bb8"
      },
      "cell_type": "markdown",
      "source": " # ***Any Suggestion are always accepted.***"
    }
  ],
  "metadata": {
    "kernelspec": {
      "display_name": "Python 3",
      "language": "python",
      "name": "python3"
    },
    "language_info": {
      "name": "python",
      "version": "3.6.4",
      "mimetype": "text/x-python",
      "codemirror_mode": {
        "name": "ipython",
        "version": 3
      },
      "pygments_lexer": "ipython3",
      "nbconvert_exporter": "python",
      "file_extension": ".py"
    }
  },
  "nbformat": 4,
  "nbformat_minor": 1
}